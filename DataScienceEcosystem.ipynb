{
 "cells": [
  {
   "cell_type": "markdown",
   "id": "c1937f30-a302-426b-a6f5-2d9ede33ba8e",
   "metadata": {},
   "source": [
    "# Data Science Tools and Ecosystem"
   ]
  },
  {
   "cell_type": "markdown",
   "id": "38f5216b-07ef-4f90-8e02-7b12f49c9775",
   "metadata": {},
   "source": [
    "**In this notebook, Data Science Tools and Ecosystem are summarized.**"
   ]
  },
  {
   "cell_type": "markdown",
   "id": "518b4c76-4694-4ed0-b222-e0032033be61",
   "metadata": {},
   "source": [
    "**Objectives**\r\n",
    "\r\n",
    "> Popular languages use in Data Science are Python, R and Java Script\r\n",
    "> Most commonly used libraries are Pandas, Seaborn and Tensor Flow\r\n",
    "> Some famous Data Science tools are Jupyter notebook, Apache Spark and R\r\n",
    "> (3*4)+5 = 17\r\n",
    "> 200 minutes converts to 3.33 hours"
   ]
  },
  {
   "cell_type": "markdown",
   "id": "98682683-5548-4f28-9102-59bfb34b49bd",
   "metadata": {},
   "source": [
    "Some of the popular languages that Data Scientists use are:\r\n",
    "\r\n",
    "Ordered List - \r\n",
    "1. Python\r\n",
    "2. R Language\r\n",
    "3. Java Script"
   ]
  },
  {
   "cell_type": "markdown",
   "id": "9a92fee8-17c3-4d00-beb4-df9bd42a4f7b",
   "metadata": {},
   "source": [
    "Some of the commonly used libraries used by Data Scientists include:\n",
    "\n",
    "ordered list - \n",
    "1. Pandas\n",
    "2. Seaborn\n",
    "3. TensorFlow\n"
   ]
  },
  {
   "cell_type": "markdown",
   "id": "4caa0154-cae7-4744-8a77-1a96afa31a74",
   "metadata": {},
   "source": [
    "Data Science Tools\r\n",
    "\r\n",
    "1. Jupyter Notebooks\r\n",
    "2. Apache Spark\r\n",
    "3. R Studio"
   ]
  },
  {
   "cell_type": "markdown",
   "id": "99d9b6b1-cc17-491d-ae71-9294d16a1a20",
   "metadata": {},
   "source": [
    "### Below are a few examples of evaluating arithmetic expressions in Python"
   ]
  },
  {
   "cell_type": "code",
   "execution_count": 2,
   "id": "df07b8b5-b1fe-4d78-81a6-723506071697",
   "metadata": {},
   "outputs": [
    {
     "name": "stdout",
     "output_type": "stream",
     "text": [
      "17\n"
     ]
    }
   ],
   "source": [
    "print((3*4)+5)\n",
    "\n",
    "#This a simple arithmetic expression to mutiply then add integers"
   ]
  },
  {
   "cell_type": "code",
   "execution_count": 3,
   "id": "48178501-9d9a-4aa7-80be-cc28d2ea8a94",
   "metadata": {},
   "outputs": [
    {
     "name": "stdout",
     "output_type": "stream",
     "text": [
      "The 200 minutes is equals to 3.3333333333333335 hours\n"
     ]
    }
   ],
   "source": [
    "a = 200\n",
    "b = a/60\n",
    "print(\"The\",a,\"minutes is equals to\",b,\"hours\")\n",
    "\n",
    "#his will convert 200 minutes to hours by diving by 60"
   ]
  },
  {
   "cell_type": "markdown",
   "id": "153bc9f0-3350-47a0-aa50-c8a8f2cc8341",
   "metadata": {},
   "source": [
    "## Author\r\n",
    "Shashi Kushwaha"
   ]
  },
  {
   "cell_type": "code",
   "execution_count": null,
   "id": "f8e02b94-a1e2-445d-88c4-2e0788921a4b",
   "metadata": {},
   "outputs": [],
   "source": []
  }
 ],
 "metadata": {
  "kernelspec": {
   "display_name": "Python 3 (ipykernel)",
   "language": "python",
   "name": "python3"
  },
  "language_info": {
   "codemirror_mode": {
    "name": "ipython",
    "version": 3
   },
   "file_extension": ".py",
   "mimetype": "text/x-python",
   "name": "python",
   "nbconvert_exporter": "python",
   "pygments_lexer": "ipython3",
   "version": "3.12.0"
  }
 },
 "nbformat": 4,
 "nbformat_minor": 5
}
